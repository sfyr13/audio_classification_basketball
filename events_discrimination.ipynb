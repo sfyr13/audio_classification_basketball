{
  "cells": [
    {
      "attachments": {},
      "cell_type": "markdown",
      "metadata": {
        "id": "3YjSOWYbYK0k"
      },
      "source": [
        "# Libraries"
      ]
    },
    {
      "cell_type": "code",
      "execution_count": 1,
      "metadata": {
        "colab": {
          "base_uri": "https://localhost:8080/"
        },
        "id": "DWFVSY-fB4xt",
        "outputId": "93139226-2f1e-4f2c-ff1c-19e0a7d53aa4"
      },
      "outputs": [],
      "source": [
        "import librosa\n",
        "import numpy as np\n",
        "from sklearn.metrics import accuracy_score, precision_score, recall_score, confusion_matrix\n",
        "import pandas as pd\n",
        "from sklearn.model_selection import train_test_split\n",
        "import matplotlib.pyplot as plt\n",
        "import tensorflow as tf\n",
        "from tensorflow.keras import Sequential\n",
        "from tensorflow.keras.layers import Dense, Activation, Dropout\n",
        "from sklearn.preprocessing import StandardScaler\n",
        "from sklearn.decomposition import PCA\n",
        "from sklearn.model_selection import GridSearchCV, RandomizedSearchCV\n",
        "from keras.wrappers.scikit_learn import  KerasClassifier\n",
        "from scipy.stats import randint, uniform\n",
        "from sklearn.utils import resample\n",
        "import seaborn as sns\n"
      ]
    },
    {
      "attachments": {},
      "cell_type": "markdown",
      "metadata": {
        "id": "A16pBxFWCu4C"
      },
      "source": [
        "# Load audio and labels"
      ]
    },
    {
      "cell_type": "code",
      "execution_count": 2,
      "metadata": {
        "id": "2zytppaDCX3l"
      },
      "outputs": [],
      "source": [
        "#Load the audio file\n",
        "audio_path = \"clips_lakers.wav\"\n",
        "audio, sr = librosa.load(audio_path, sr=None)"
      ]
    },
    {
      "cell_type": "code",
      "execution_count": 3,
      "metadata": {
        "colab": {
          "base_uri": "https://localhost:8080/",
          "height": 0
        },
        "id": "WrPrxbORCy9n",
        "outputId": "e61055fd-e658-499b-ba92-7e09287438c4"
      },
      "outputs": [
        {
          "data": {
            "text/html": [
              "<div>\n",
              "<style scoped>\n",
              "    .dataframe tbody tr th:only-of-type {\n",
              "        vertical-align: middle;\n",
              "    }\n",
              "\n",
              "    .dataframe tbody tr th {\n",
              "        vertical-align: top;\n",
              "    }\n",
              "\n",
              "    .dataframe thead th {\n",
              "        text-align: right;\n",
              "    }\n",
              "</style>\n",
              "<table border=\"1\" class=\"dataframe\">\n",
              "  <thead>\n",
              "    <tr style=\"text-align: right;\">\n",
              "      <th></th>\n",
              "      <th>TIME</th>\n",
              "      <th>DURATION</th>\n",
              "      <th>LABEL</th>\n",
              "    </tr>\n",
              "  </thead>\n",
              "  <tbody>\n",
              "    <tr>\n",
              "      <th>0</th>\n",
              "      <td>25.353288</td>\n",
              "      <td>2.641270</td>\n",
              "      <td>cheering</td>\n",
              "    </tr>\n",
              "    <tr>\n",
              "      <th>1</th>\n",
              "      <td>68.057687</td>\n",
              "      <td>3.125986</td>\n",
              "      <td>boos</td>\n",
              "    </tr>\n",
              "    <tr>\n",
              "      <th>2</th>\n",
              "      <td>72.759728</td>\n",
              "      <td>0.017415</td>\n",
              "      <td>cheering</td>\n",
              "    </tr>\n",
              "    <tr>\n",
              "      <th>3</th>\n",
              "      <td>83.043265</td>\n",
              "      <td>3.700680</td>\n",
              "      <td>boos</td>\n",
              "    </tr>\n",
              "    <tr>\n",
              "      <th>4</th>\n",
              "      <td>126.656145</td>\n",
              "      <td>1.367075</td>\n",
              "      <td>cheering</td>\n",
              "    </tr>\n",
              "    <tr>\n",
              "      <th>...</th>\n",
              "      <td>...</td>\n",
              "      <td>...</td>\n",
              "      <td>...</td>\n",
              "    </tr>\n",
              "    <tr>\n",
              "      <th>307</th>\n",
              "      <td>5671.632109</td>\n",
              "      <td>0.114649</td>\n",
              "      <td>whistle</td>\n",
              "    </tr>\n",
              "    <tr>\n",
              "      <th>308</th>\n",
              "      <td>5684.033016</td>\n",
              "      <td>2.016508</td>\n",
              "      <td>air_horn</td>\n",
              "    </tr>\n",
              "    <tr>\n",
              "      <th>309</th>\n",
              "      <td>5708.364626</td>\n",
              "      <td>0.274286</td>\n",
              "      <td>whistle</td>\n",
              "    </tr>\n",
              "    <tr>\n",
              "      <th>310</th>\n",
              "      <td>5717.298503</td>\n",
              "      <td>1.648617</td>\n",
              "      <td>air_horn</td>\n",
              "    </tr>\n",
              "    <tr>\n",
              "      <th>311</th>\n",
              "      <td>5718.151837</td>\n",
              "      <td>0.055147</td>\n",
              "      <td>whistle</td>\n",
              "    </tr>\n",
              "  </tbody>\n",
              "</table>\n",
              "<p>312 rows × 3 columns</p>\n",
              "</div>"
            ],
            "text/plain": [
              "            TIME  DURATION     LABEL\n",
              "0      25.353288  2.641270  cheering\n",
              "1      68.057687  3.125986      boos\n",
              "2      72.759728  0.017415  cheering\n",
              "3      83.043265  3.700680      boos\n",
              "4     126.656145  1.367075  cheering\n",
              "..           ...       ...       ...\n",
              "307  5671.632109  0.114649   whistle\n",
              "308  5684.033016  2.016508  air_horn\n",
              "309  5708.364626  0.274286   whistle\n",
              "310  5717.298503  1.648617  air_horn\n",
              "311  5718.151837  0.055147   whistle\n",
              "\n",
              "[312 rows x 3 columns]"
            ]
          },
          "execution_count": 3,
          "metadata": {},
          "output_type": "execute_result"
        }
      ],
      "source": [
        "#Load labels from CSV file\n",
        "labels_path = \"annotation.csv\"\n",
        "labels_df = pd.read_csv(labels_path)\n",
        "labels_df.drop(['VALUE'], axis=1)"
      ]
    },
    {
      "attachments": {},
      "cell_type": "markdown",
      "metadata": {
        "id": "M2lT2r4uDruc"
      },
      "source": [
        "# Feature extraction and labelling"
      ]
    },
    {
      "cell_type": "code",
      "execution_count": 4,
      "metadata": {},
      "outputs": [],
      "source": [
        "n_fft = 2048\n",
        "hop_length = 512"
      ]
    },
    {
      "cell_type": "code",
      "execution_count": 5,
      "metadata": {
        "id": "ftcG79LcDvDB"
      },
      "outputs": [],
      "source": [
        "#Mel Frequency Cepstral Coefficients\n",
        "\n",
        "\n",
        "\n",
        "mfccs = librosa.feature.mfcc(y=audio, sr=sr, n_fft=n_fft, hop_length=hop_length, n_mfcc=13)"
      ]
    },
    {
      "cell_type": "code",
      "execution_count": 6,
      "metadata": {
        "id": "_LVbcPaXD80_"
      },
      "outputs": [],
      "source": [
        "#Mel Spectrogram\n",
        "\n",
        "mel_spectrograms = librosa.feature.melspectrogram(y=audio, sr=sr, n_fft=n_fft, hop_length=hop_length)  "
      ]
    },
    {
      "cell_type": "code",
      "execution_count": 7,
      "metadata": {
        "id": "4mFZsLoYEVow"
      },
      "outputs": [],
      "source": [
        "#Spectral Centroid\n",
        "\n",
        "centroids = librosa.feature.spectral_centroid(y=audio, sr=sr, n_fft=n_fft, hop_length=hop_length)"
      ]
    },
    {
      "cell_type": "code",
      "execution_count": 8,
      "metadata": {
        "id": "ZG_pTGQyFsGn"
      },
      "outputs": [],
      "source": [
        "#Zero Crossing Rate\n",
        "\n",
        "zcr = librosa.feature.zero_crossing_rate(y=audio, hop_length=hop_length)"
      ]
    },
    {
      "cell_type": "code",
      "execution_count": 9,
      "metadata": {
        "id": "HfpPt-ODAR3B"
      },
      "outputs": [],
      "source": [
        "#Chromagram\n",
        "\n",
        "chroma = librosa.feature.chroma_stft(y=audio, hop_length=hop_length)"
      ]
    },
    {
      "cell_type": "code",
      "execution_count": 10,
      "metadata": {},
      "outputs": [],
      "source": [
        "#spectral flatness\n",
        "\n",
        "flatness = librosa.feature.spectral_flatness(y=audio, hop_length=hop_length)"
      ]
    },
    {
      "cell_type": "code",
      "execution_count": 11,
      "metadata": {},
      "outputs": [],
      "source": [
        "#Spectral rolloff\n",
        "\n",
        "rolloff = librosa.feature.spectral_rolloff(y=audio, hop_length=hop_length)"
      ]
    },
    {
      "cell_type": "code",
      "execution_count": 8,
      "metadata": {},
      "outputs": [],
      "source": [
        "#Root-mean-square(RMS) value\n",
        "\n",
        "rms = librosa.feature.rms(y=audio, hop_length=hop_length)"
      ]
    },
    {
      "cell_type": "code",
      "execution_count": 9,
      "metadata": {},
      "outputs": [],
      "source": [
        "#spectral contrast\n",
        "\n",
        "contrast = librosa.feature.spectral_contrast(y=audio, n_fft=n_fft, hop_length=hop_length)"
      ]
    },
    {
      "cell_type": "code",
      "execution_count": 10,
      "metadata": {},
      "outputs": [],
      "source": [
        "#spectral bandwidth\n",
        "\n",
        "bandwidth = librosa.feature.spectral_bandwidth(y=audio, n_fft=n_fft, hop_length=hop_length)"
      ]
    },
    {
      "cell_type": "code",
      "execution_count": null,
      "metadata": {
        "id": "rnd-2HnAYTTQ"
      },
      "outputs": [],
      "source": [
        "#Concatenate multiple audio features\n",
        "concatenated_features = []\n",
        "\n",
        "for i in range(mfccs.shape[1]):\n",
        "  frame_features = np.concatenate((mfccs[:, i], mel_spectrograms[:, i], zcr[:, i], chroma[:, i], flatness[:, i], rolloff[:, i], rms[:, i], contrast[:, i], bandwidth[:, i]))\n",
        "  concatenated_features.append(frame_features)"
      ]
    },
    {
      "cell_type": "code",
      "execution_count": null,
      "metadata": {
        "id": "hyZZSRpwcv8S"
      },
      "outputs": [],
      "source": [
        "#Stack concatenated features to create a single numpy array of shape:\n",
        "#(num_of_samples, num_of_features)\n",
        "\n",
        "concatenated_features = np.stack(concatenated_features)"
      ]
    },
    {
      "cell_type": "code",
      "execution_count": 5,
      "metadata": {},
      "outputs": [],
      "source": [
        "concatenated_features = np.load(\"audio_features.npy\")"
      ]
    },
    {
      "cell_type": "code",
      "execution_count": 6,
      "metadata": {
        "id": "zsHnZi2QFb1Y"
      },
      "outputs": [],
      "source": [
        "#Label concatenated_features frames based on the corresponding CSV labels\n",
        "\n",
        "# concatenated_features_labels = np.zeros(concatenated_features.shape[0])\n",
        "# labeled_windows = []\n",
        "\n",
        "# for i, row in labels_df.iterrows():\n",
        "#   start_time = row[\"TIME\"]\n",
        "#   end_time = start_time + row[\"DURATION\"]\n",
        "#   label = row[\"LABEL\"]\n",
        "\n",
        "#   # Convert start and end times from seconds to frame indices.\n",
        "#   start_frame = int(start_time * sr/hop_length)\n",
        "#   end_frame = int(end_time * sr/hop_length)\n",
        "\n",
        "#   if row['LABEL'] == 'cheering':\n",
        "#     concatenated_features_labels[start_frame:end_frame] = 1\n",
        "\n",
        "#   elif row['LABEL'] == 'whistle':\n",
        "#     concatenated_features_labels[start_frame:end_frame] = 2\n",
        "\n",
        "\n",
        "#   elif row['LABEL'] == 'air_horn':\n",
        "#     concatenated_features_labels[start_frame:end_frame] = 3"
      ]
    },
    {
      "cell_type": "code",
      "execution_count": null,
      "metadata": {},
      "outputs": [],
      "source": [
        "#create separate windows of 20 consecutive frames(window duration : 1s.)\n",
        "\n",
        "#window shape: (#frames/window_size, #features*window_size)\n",
        "\n",
        "windows = []\n",
        "window_size = 10 #number of frames per window\n",
        "\n",
        "for i in range(0, len(concatenated_features), window_size):\n",
        "    window = np.concatenate(concatenated_features[i : i+window_size], axis=0)\n",
        "    print(window.shape)\n",
        "    if len(window) == window_size*len(concatenated_features[0]): # Check if the window has the desired number of frames\n",
        "        windows.append(window)\n",
        "\n",
        "windows = np.array(windows)\n"
      ]
    },
    {
      "cell_type": "code",
      "execution_count": 61,
      "metadata": {},
      "outputs": [],
      "source": [
        "#Label windows using majority voting\n",
        "\n",
        "num_frames = concatenated_features.shape[0]\n",
        "num_windows = windows.shape[0]\n",
        "windows_labels = []\n",
        "\n",
        "#Iterate over each window\n",
        "\n",
        "for i in range(num_windows):\n",
        "    window_start = i * window_size\n",
        "    window_end = (i + 1) * window_size\n",
        "\n",
        "    #Count occurrences of each class in the window\n",
        "\n",
        "    class_counts = {'0': 0, '1': 0, '2': 0, '3': 0}\n",
        "\n",
        "    for frame_index in range(window_start, window_end):\n",
        "        frame_label = str(int(concatenated_features_labels[frame_index]))\n",
        "        class_counts[frame_label] += 1\n",
        "\n",
        "    # Determine the majority class for the window\n",
        "    majority_class = max(class_counts, key=class_counts.get)\n",
        "\n",
        "    # Assign the majority class label to the entire window\n",
        "    window_label = int(majority_class)\n",
        "    #add label to labels list\n",
        "    windows_labels.append(window_label)\n",
        "\n",
        "#Convert list to numpy array  \n",
        "windows_labels = np.array(windows_labels)\n"
      ]
    },
    {
      "attachments": {},
      "cell_type": "markdown",
      "metadata": {},
      "source": [
        "# Preprocessing"
      ]
    },
    {
      "cell_type": "code",
      "execution_count": 62,
      "metadata": {},
      "outputs": [],
      "source": [
        "#Scaling for WINDOWS\n",
        "scaler = StandardScaler()\n",
        "window_features_std = scaler.fit_transform(windows)"
      ]
    },
    {
      "cell_type": "code",
      "execution_count": 29,
      "metadata": {},
      "outputs": [],
      "source": [
        "#InformationGain for optimal feature selection\n",
        "\n",
        "from sklearn.feature_selection import SelectKBest\n",
        "from sklearn.feature_selection import mutual_info_classif\n",
        "\n",
        "def select_optimal_features(features, labels, k):\n",
        "    # Create an instance of the SelectKBest class with mutual information as the scoring function\n",
        "    selector = SelectKBest(score_func=mutual_info_classif, k=k)\n",
        "\n",
        "    # Fit the selector to the features and labels\n",
        "    selector.fit(features, labels)\n",
        "\n",
        "    # Get the scores and indices of the top k features\n",
        "    scores = selector.scores_\n",
        "    feature_indices = np.argsort(scores)[::-1][:k]\n",
        "\n",
        "    # Select the top k features from the original feature array\n",
        "    selected_features = features[:, feature_indices]\n",
        "\n",
        "    return selected_features\n",
        "\n",
        "# Assuming you have a NumPy array of audio features called \"audio_features\"\n",
        "# and a NumPy array of corresponding labels called \"labels\"\n",
        "\n",
        "# Set the number of optimal features to select\n",
        "k = 20\n",
        "\n",
        "# Call the function to select the optimal features\n",
        "selected_features = select_optimal_features(concatenated_features, concatenated_features_labels, k)\n"
      ]
    },
    {
      "cell_type": "code",
      "execution_count": 10,
      "metadata": {},
      "outputs": [
        {
          "name": "stdout",
          "output_type": "stream",
          "text": [
            "Number of components: 59\n"
          ]
        }
      ],
      "source": [
        "#Principal Component Analysis(PCA) for dimensionality reduction\n",
        "\n",
        "pca = PCA()\n",
        "pca.fit(features_std)\n",
        "evr = pca.explained_variance_ratio_\n",
        "\n",
        "for i, exp_var in enumerate(evr.cumsum()):\n",
        "    if exp_var >= 0.8:\n",
        "        n_comps = i + 1\n",
        "        break\n",
        "print(\"Number of components:\", n_comps) #Number of components necessary to preserve around 80% of variance\n",
        "pca = PCA(n_components=n_comps)\n",
        "pca.fit(features_std)\n",
        "scores_pca = pca.transform(features_std)"
      ]
    },
    {
      "cell_type": "code",
      "execution_count": 11,
      "metadata": {},
      "outputs": [],
      "source": [
        "# Split the data into training and testing sets\n",
        "X_train, X_test, y_train, y_test = train_test_split(scores_pca, concatenated_features_labels, test_size=0.2)\n",
        "\n",
        "#Downsample X_train to have equal number of each event(to avoid overfitting)\n",
        "\n",
        "X_train_0 = X_train[y_train == 0]\n",
        "X_train_1 = X_train[y_train == 1]\n",
        "X_train_2 = X_train[y_train == 2]\n",
        "X_train_3 = X_train[y_train == 3]\n",
        "\n",
        "X_train_0_downsampled = resample(X_train_0, replace=False, n_samples=X_train_2.shape[0], random_state=123)\n",
        "X_train_1_downsampled = resample(X_train_1, replace=False, n_samples=X_train_2.shape[0], random_state=123)\n",
        "X_train_3_downsampled = resample(X_train_3, replace=False, n_samples=X_train_2.shape[0], random_state=123)\n",
        "\n",
        "\n",
        "X_train_downsampled = np.vstack((X_train_0_downsampled, X_train_1_downsampled, X_train_2, X_train_3_downsampled))\n",
        "y_train_downsampled = np.hstack((np.zeros(X_train_0_downsampled.shape[0]), np.ones(X_train_1_downsampled.shape[0]), np.full(X_train_2.shape[0], 2), np.full(X_train_3_downsampled.shape[0], 3)))\n"
      ]
    },
    {
      "cell_type": "code",
      "execution_count": 63,
      "metadata": {},
      "outputs": [],
      "source": [
        "# Split the data into training and testing sets for WINDOWS\n",
        "X_train, X_test, y_train, y_test = train_test_split(window_features_std, windows_labels, test_size=0.2)\n",
        "\n",
        "#Downsample X_train to have equal number of each event(to avoid overfitting)\n",
        "\n",
        "X_train_0 = X_train[y_train == 0]\n",
        "X_train_1 = X_train[y_train == 1]\n",
        "X_train_2 = X_train[y_train == 2]\n",
        "X_train_3 = X_train[y_train == 3]\n",
        "\n",
        "X_train_0_downsampled = resample(X_train_0, replace=False, n_samples=X_train_2.shape[0], random_state=123)\n",
        "X_train_1_downsampled = resample(X_train_1, replace=False, n_samples=X_train_2.shape[0], random_state=123)\n",
        "X_train_3_downsampled = resample(X_train_3, replace=False, n_samples=X_train_2.shape[0], random_state=123)\n",
        "\n",
        "\n",
        "X_train_downsampled = np.vstack((X_train_0_downsampled, X_train_1_downsampled, X_train_2, X_train_3_downsampled))\n",
        "y_train_downsampled = np.hstack((np.zeros(X_train_0_downsampled.shape[0]), np.ones(X_train_1_downsampled.shape[0]), np.full(X_train_2.shape[0], 2), np.full(X_train_3_downsampled.shape[0], 3)))\n"
      ]
    },
    {
      "attachments": {},
      "cell_type": "markdown",
      "metadata": {
        "id": "0yA7y-4_akJL"
      },
      "source": [
        "# Build ANN for classification\n"
      ]
    },
    {
      "cell_type": "code",
      "execution_count": 64,
      "metadata": {
        "id": "y2qKc1n_apEJ"
      },
      "outputs": [],
      "source": [
        "#Define the number of classes\n",
        "num_classes = 4\n",
        "\n",
        "\n",
        "# #Define ANN model\n",
        "def ANN_model(input_shape=windows.shape[1], activation='relu', optimizer='adam'):\n",
        "\n",
        "    model = Sequential()\n",
        "    model.add(Dense(100, input_shape = (input_shape,), activation=activation)) #fix input_shape depending on input\n",
        "    model.add(Dropout(0.5))\n",
        "    ###second layer\n",
        "    model.add(Dense(200, activation=activation))\n",
        "    model.add(Dropout(0.5))\n",
        "    ###third layer\n",
        "    model.add(Dense(100, activation=activation))\n",
        "    model.add(Dropout(0.5))\n",
        "    ###final layer\n",
        "    model.add(Dense(num_classes))\n",
        "    model.add(Activation('softmax')) \n",
        "\n",
        "    model.summary()\n",
        "\n",
        "    # Compile the model\n",
        "    model.compile(optimizer=optimizer,\n",
        "              loss=tf.keras.losses.SparseCategoricalCrossentropy(from_logits=True),\n",
        "              metrics=['accuracy'])\n",
        "    return model"
      ]
    },
    {
      "cell_type": "code",
      "execution_count": 65,
      "metadata": {
        "id": "z7qOQoZ36KhW"
      },
      "outputs": [
        {
          "name": "stdout",
          "output_type": "stream",
          "text": [
            "Model: \"sequential_3\"\n",
            "_________________________________________________________________\n",
            " Layer (type)                Output Shape              Param #   \n",
            "=================================================================\n",
            " dense_12 (Dense)            (None, 100)               165100    \n",
            "                                                                 \n",
            " dropout_9 (Dropout)         (None, 100)               0         \n",
            "                                                                 \n",
            " dense_13 (Dense)            (None, 200)               20200     \n",
            "                                                                 \n",
            " dropout_10 (Dropout)        (None, 200)               0         \n",
            "                                                                 \n",
            " dense_14 (Dense)            (None, 100)               20100     \n",
            "                                                                 \n",
            " dropout_11 (Dropout)        (None, 100)               0         \n",
            "                                                                 \n",
            " dense_15 (Dense)            (None, 4)                 404       \n",
            "                                                                 \n",
            " activation_3 (Activation)   (None, 4)                 0         \n",
            "                                                                 \n",
            "=================================================================\n",
            "Total params: 205,804\n",
            "Trainable params: 205,804\n",
            "Non-trainable params: 0\n",
            "_________________________________________________________________\n",
            "Epoch 1/100\n"
          ]
        },
        {
          "name": "stderr",
          "output_type": "stream",
          "text": [
            "C:\\Users\\MANOS\\AppData\\Local\\Packages\\PythonSoftwareFoundation.Python.3.9_qbz5n2kfra8p0\\LocalCache\\local-packages\\Python39\\site-packages\\keras\\backend.py:5612: UserWarning: \"`sparse_categorical_crossentropy` received `from_logits=True`, but the `output` argument was produced by a Softmax activation and thus does not represent logits. Was this intended?\n",
            "  output, from_logits = _get_logits(\n"
          ]
        },
        {
          "name": "stdout",
          "output_type": "stream",
          "text": [
            "13/13 [==============================] - 1s 5ms/step - loss: 2.1852 - accuracy: 0.3252\n",
            "Epoch 2/100\n",
            "13/13 [==============================] - 0s 5ms/step - loss: 1.6087 - accuracy: 0.4029\n",
            "Epoch 3/100\n",
            "13/13 [==============================] - 0s 4ms/step - loss: 1.1195 - accuracy: 0.5995\n",
            "Epoch 4/100\n",
            "13/13 [==============================] - 0s 6ms/step - loss: 1.1190 - accuracy: 0.6141\n",
            "Epoch 5/100\n",
            "13/13 [==============================] - 0s 8ms/step - loss: 0.8727 - accuracy: 0.6917\n",
            "Epoch 6/100\n",
            "13/13 [==============================] - 0s 7ms/step - loss: 0.7038 - accuracy: 0.7233\n",
            "Epoch 7/100\n",
            "13/13 [==============================] - 0s 9ms/step - loss: 0.6055 - accuracy: 0.7621\n",
            "Epoch 8/100\n",
            "13/13 [==============================] - 0s 8ms/step - loss: 0.5817 - accuracy: 0.8204\n",
            "Epoch 9/100\n",
            "13/13 [==============================] - 0s 8ms/step - loss: 0.5340 - accuracy: 0.8107\n",
            "Epoch 10/100\n",
            "13/13 [==============================] - 0s 6ms/step - loss: 0.4761 - accuracy: 0.8252\n",
            "Epoch 11/100\n",
            "13/13 [==============================] - 0s 6ms/step - loss: 0.3036 - accuracy: 0.9005\n",
            "Epoch 12/100\n",
            "13/13 [==============================] - 0s 8ms/step - loss: 0.3826 - accuracy: 0.8641\n",
            "Epoch 13/100\n",
            "13/13 [==============================] - 0s 9ms/step - loss: 0.2986 - accuracy: 0.8883\n",
            "Epoch 14/100\n",
            "13/13 [==============================] - 0s 8ms/step - loss: 0.2029 - accuracy: 0.9417\n",
            "Epoch 15/100\n",
            "13/13 [==============================] - 0s 8ms/step - loss: 0.2379 - accuracy: 0.9175\n",
            "Epoch 16/100\n",
            "13/13 [==============================] - 0s 8ms/step - loss: 0.2312 - accuracy: 0.9223\n",
            "Epoch 17/100\n",
            "13/13 [==============================] - 0s 9ms/step - loss: 0.1834 - accuracy: 0.9515\n",
            "Epoch 18/100\n",
            "13/13 [==============================] - 0s 8ms/step - loss: 0.1827 - accuracy: 0.9417\n",
            "Epoch 19/100\n",
            "13/13 [==============================] - 0s 8ms/step - loss: 0.1841 - accuracy: 0.9442\n",
            "Epoch 20/100\n",
            "13/13 [==============================] - 0s 10ms/step - loss: 0.1222 - accuracy: 0.9587\n",
            "Epoch 21/100\n",
            "13/13 [==============================] - 0s 5ms/step - loss: 0.2246 - accuracy: 0.9393\n",
            "Epoch 22/100\n",
            "13/13 [==============================] - 0s 7ms/step - loss: 0.1405 - accuracy: 0.9684\n",
            "Epoch 23/100\n",
            "13/13 [==============================] - 0s 9ms/step - loss: 0.1401 - accuracy: 0.9539\n",
            "Epoch 24/100\n",
            "13/13 [==============================] - 0s 9ms/step - loss: 0.0999 - accuracy: 0.9709\n",
            "Epoch 25/100\n",
            "13/13 [==============================] - 0s 5ms/step - loss: 0.0751 - accuracy: 0.9782\n",
            "Epoch 26/100\n",
            "13/13 [==============================] - 0s 5ms/step - loss: 0.1159 - accuracy: 0.9539\n",
            "Epoch 27/100\n",
            "13/13 [==============================] - 0s 7ms/step - loss: 0.0746 - accuracy: 0.9782\n",
            "Epoch 28/100\n",
            "13/13 [==============================] - 0s 6ms/step - loss: 0.0716 - accuracy: 0.9806\n",
            "Epoch 29/100\n",
            "13/13 [==============================] - 0s 7ms/step - loss: 0.0842 - accuracy: 0.9660\n",
            "Epoch 30/100\n",
            "13/13 [==============================] - 0s 7ms/step - loss: 0.0840 - accuracy: 0.9684\n",
            "Epoch 31/100\n",
            "13/13 [==============================] - 0s 8ms/step - loss: 0.0523 - accuracy: 0.9782\n",
            "Epoch 32/100\n",
            "13/13 [==============================] - 0s 8ms/step - loss: 0.0573 - accuracy: 0.9782\n",
            "Epoch 33/100\n",
            "13/13 [==============================] - 0s 8ms/step - loss: 0.0447 - accuracy: 0.9903\n",
            "Epoch 34/100\n",
            "13/13 [==============================] - 0s 8ms/step - loss: 0.0649 - accuracy: 0.9830\n",
            "Epoch 35/100\n",
            "13/13 [==============================] - 0s 7ms/step - loss: 0.0901 - accuracy: 0.9660\n",
            "Epoch 36/100\n",
            "13/13 [==============================] - 0s 8ms/step - loss: 0.0598 - accuracy: 0.9757\n",
            "Epoch 37/100\n",
            "13/13 [==============================] - 0s 8ms/step - loss: 0.0450 - accuracy: 0.9879\n",
            "Epoch 38/100\n",
            "13/13 [==============================] - 0s 8ms/step - loss: 0.0481 - accuracy: 0.9903\n",
            "Epoch 39/100\n",
            "13/13 [==============================] - 0s 9ms/step - loss: 0.0696 - accuracy: 0.9782\n",
            "Epoch 40/100\n",
            "13/13 [==============================] - 0s 8ms/step - loss: 0.0501 - accuracy: 0.9854\n",
            "Epoch 41/100\n",
            "13/13 [==============================] - 0s 9ms/step - loss: 0.0798 - accuracy: 0.9782\n",
            "Epoch 42/100\n",
            "13/13 [==============================] - 0s 8ms/step - loss: 0.0461 - accuracy: 0.9806\n",
            "Epoch 43/100\n",
            "13/13 [==============================] - 0s 8ms/step - loss: 0.0429 - accuracy: 0.9879\n",
            "Epoch 44/100\n",
            "13/13 [==============================] - 0s 9ms/step - loss: 0.0283 - accuracy: 0.9879\n",
            "Epoch 45/100\n",
            "13/13 [==============================] - 0s 8ms/step - loss: 0.0313 - accuracy: 0.9903\n",
            "Epoch 46/100\n",
            "13/13 [==============================] - 0s 8ms/step - loss: 0.0390 - accuracy: 0.9854\n",
            "Epoch 47/100\n",
            "13/13 [==============================] - 0s 8ms/step - loss: 0.0571 - accuracy: 0.9782\n",
            "Epoch 48/100\n",
            "13/13 [==============================] - 0s 9ms/step - loss: 0.0422 - accuracy: 0.9782\n",
            "Epoch 49/100\n",
            "13/13 [==============================] - 0s 7ms/step - loss: 0.0454 - accuracy: 0.9854\n",
            "Epoch 50/100\n",
            "13/13 [==============================] - 0s 9ms/step - loss: 0.0329 - accuracy: 0.9879\n",
            "Epoch 51/100\n",
            "13/13 [==============================] - 0s 7ms/step - loss: 0.0340 - accuracy: 0.9903\n",
            "Epoch 52/100\n",
            "13/13 [==============================] - 0s 8ms/step - loss: 0.0368 - accuracy: 0.9854\n",
            "Epoch 53/100\n",
            "13/13 [==============================] - 0s 8ms/step - loss: 0.0249 - accuracy: 0.9879\n",
            "Epoch 54/100\n",
            "13/13 [==============================] - 0s 8ms/step - loss: 0.0316 - accuracy: 0.9879\n",
            "Epoch 55/100\n",
            "13/13 [==============================] - 0s 7ms/step - loss: 0.0336 - accuracy: 0.9903\n",
            "Epoch 56/100\n",
            "13/13 [==============================] - 0s 9ms/step - loss: 0.0237 - accuracy: 0.9927\n",
            "Epoch 57/100\n",
            "13/13 [==============================] - 0s 8ms/step - loss: 0.0215 - accuracy: 0.9951\n",
            "Epoch 58/100\n",
            "13/13 [==============================] - 0s 8ms/step - loss: 0.0575 - accuracy: 0.9854\n",
            "Epoch 59/100\n",
            "13/13 [==============================] - 0s 11ms/step - loss: 0.0435 - accuracy: 0.9830\n",
            "Epoch 60/100\n",
            "13/13 [==============================] - 0s 5ms/step - loss: 0.0350 - accuracy: 0.9879\n",
            "Epoch 61/100\n",
            "13/13 [==============================] - 0s 5ms/step - loss: 0.0263 - accuracy: 0.9903\n",
            "Epoch 62/100\n",
            "13/13 [==============================] - 0s 6ms/step - loss: 0.0224 - accuracy: 0.9951\n",
            "Epoch 63/100\n",
            "13/13 [==============================] - 0s 7ms/step - loss: 0.0377 - accuracy: 0.9854\n",
            "Epoch 64/100\n",
            "13/13 [==============================] - 0s 8ms/step - loss: 0.0486 - accuracy: 0.9854\n",
            "Epoch 65/100\n",
            "13/13 [==============================] - 0s 9ms/step - loss: 0.0489 - accuracy: 0.9951\n",
            "Epoch 66/100\n",
            "13/13 [==============================] - 0s 9ms/step - loss: 0.0493 - accuracy: 0.9806\n",
            "Epoch 67/100\n",
            "13/13 [==============================] - 0s 7ms/step - loss: 0.0482 - accuracy: 0.9830\n",
            "Epoch 68/100\n",
            "13/13 [==============================] - 0s 7ms/step - loss: 0.0483 - accuracy: 0.9879\n",
            "Epoch 69/100\n",
            "13/13 [==============================] - 0s 7ms/step - loss: 0.0495 - accuracy: 0.9879\n",
            "Epoch 70/100\n",
            "13/13 [==============================] - 0s 9ms/step - loss: 0.0297 - accuracy: 0.9854\n",
            "Epoch 71/100\n",
            "13/13 [==============================] - 0s 8ms/step - loss: 0.0350 - accuracy: 0.9903\n",
            "Epoch 72/100\n",
            "13/13 [==============================] - 0s 7ms/step - loss: 0.0450 - accuracy: 0.9903\n",
            "Epoch 73/100\n",
            "13/13 [==============================] - 0s 8ms/step - loss: 0.0451 - accuracy: 0.9879\n",
            "Epoch 74/100\n",
            "13/13 [==============================] - 0s 9ms/step - loss: 0.0358 - accuracy: 0.9854\n",
            "Epoch 75/100\n",
            "13/13 [==============================] - 0s 7ms/step - loss: 0.0257 - accuracy: 0.9879\n",
            "Epoch 76/100\n",
            "13/13 [==============================] - 0s 8ms/step - loss: 0.0548 - accuracy: 0.9879\n",
            "Epoch 77/100\n",
            "13/13 [==============================] - 0s 9ms/step - loss: 0.0377 - accuracy: 0.9879\n",
            "Epoch 78/100\n",
            "13/13 [==============================] - 0s 8ms/step - loss: 0.0350 - accuracy: 0.9879\n",
            "Epoch 79/100\n",
            "13/13 [==============================] - 0s 8ms/step - loss: 0.0378 - accuracy: 0.9830\n",
            "Epoch 80/100\n",
            "13/13 [==============================] - 0s 9ms/step - loss: 0.0272 - accuracy: 0.9903\n",
            "Epoch 81/100\n",
            "13/13 [==============================] - 0s 8ms/step - loss: 0.0210 - accuracy: 0.9951\n",
            "Epoch 82/100\n",
            "13/13 [==============================] - 0s 8ms/step - loss: 0.0290 - accuracy: 0.9927\n",
            "Epoch 83/100\n",
            "13/13 [==============================] - 0s 8ms/step - loss: 0.0260 - accuracy: 0.9927\n",
            "Epoch 84/100\n",
            "13/13 [==============================] - 0s 9ms/step - loss: 0.0161 - accuracy: 0.9976\n",
            "Epoch 85/100\n",
            "13/13 [==============================] - 0s 7ms/step - loss: 0.0183 - accuracy: 0.9903\n",
            "Epoch 86/100\n",
            "13/13 [==============================] - 0s 8ms/step - loss: 0.0154 - accuracy: 0.9951\n",
            "Epoch 87/100\n",
            "13/13 [==============================] - 0s 8ms/step - loss: 0.0310 - accuracy: 0.9879\n",
            "Epoch 88/100\n",
            "13/13 [==============================] - 0s 9ms/step - loss: 0.0269 - accuracy: 0.9879\n",
            "Epoch 89/100\n",
            "13/13 [==============================] - 0s 8ms/step - loss: 0.0739 - accuracy: 0.9830\n",
            "Epoch 90/100\n",
            "13/13 [==============================] - 0s 9ms/step - loss: 0.0151 - accuracy: 0.9927\n",
            "Epoch 91/100\n",
            "13/13 [==============================] - 0s 8ms/step - loss: 0.0133 - accuracy: 0.9951\n",
            "Epoch 92/100\n",
            "13/13 [==============================] - 0s 9ms/step - loss: 0.0123 - accuracy: 0.9951\n",
            "Epoch 93/100\n",
            "13/13 [==============================] - 0s 8ms/step - loss: 0.0139 - accuracy: 0.9951\n",
            "Epoch 94/100\n",
            "13/13 [==============================] - 0s 9ms/step - loss: 0.0169 - accuracy: 0.9927\n",
            "Epoch 95/100\n",
            "13/13 [==============================] - 0s 8ms/step - loss: 0.0121 - accuracy: 0.9976\n",
            "Epoch 96/100\n",
            "13/13 [==============================] - 0s 8ms/step - loss: 0.0228 - accuracy: 0.9903\n",
            "Epoch 97/100\n",
            "13/13 [==============================] - 0s 9ms/step - loss: 0.0273 - accuracy: 0.9976\n",
            "Epoch 98/100\n",
            "13/13 [==============================] - 0s 5ms/step - loss: 0.0083 - accuracy: 0.9976\n",
            "Epoch 99/100\n",
            "13/13 [==============================] - 0s 9ms/step - loss: 0.0201 - accuracy: 0.9951\n",
            "Epoch 100/100\n",
            "13/13 [==============================] - 0s 8ms/step - loss: 0.0126 - accuracy: 0.9951\n"
          ]
        },
        {
          "data": {
            "text/plain": [
              "<keras.callbacks.History at 0x225008844c0>"
            ]
          },
          "execution_count": 65,
          "metadata": {},
          "output_type": "execute_result"
        }
      ],
      "source": [
        "#Train model on windows\n",
        "model = ANN_model()\n",
        "model.fit(X_train_downsampled, y_train_downsampled, epochs=100, batch_size=32)"
      ]
    },
    {
      "cell_type": "code",
      "execution_count": 67,
      "metadata": {
        "id": "9RUhPIGT3-_K"
      },
      "outputs": [
        {
          "name": "stdout",
          "output_type": "stream",
          "text": [
            "315/315 [==============================] - 1s 3ms/step - loss: 1.8612 - accuracy: 0.8048\n",
            "Test loss: 1.8612295389175415\n",
            "Test accuracy: 0.804751992225647\n"
          ]
        }
      ],
      "source": [
        "loss, accuracy = model.evaluate(X_test, y_test)\n",
        "print(f\"Test loss: {loss}\")\n",
        "print(f\"Test accuracy: {accuracy}\")"
      ]
    },
    {
      "cell_type": "code",
      "execution_count": 68,
      "metadata": {},
      "outputs": [
        {
          "name": "stdout",
          "output_type": "stream",
          "text": [
            "315/315 [==============================] - 1s 3ms/step\n",
            "Precision score: 0.8047519634158465\n",
            " Recall score: [0.79978518 0.85735513 1.         0.92156863]\n"
          ]
        },
        {
          "data": {
            "image/png": "[encoded data removed]",
            "text/plain": [
              "<Figure size 576x432 with 2 Axes>"
            ]
          },
          "metadata": {
            "needs_background": "light"
          },
          "output_type": "display_data"
        }
      ],
      "source": [
        "#Print confusion matrix to see values distribution on each class\n",
        "\n",
        "y_pred_proba = model.predict(X_test)\n",
        "y_pred = np.argmax(y_pred_proba, axis=1) #convert probability for each class into class prediction\n",
        "precision = precision_score(y_test, y_pred, average='micro')\n",
        "recall = recall_score(y_test, y_pred, average=None)\n",
        "print(\"Precision score: \" +str(precision)+ \"\\n Recall score: \"+str(recall))\n",
        "confusion_mat = confusion_matrix(y_test, y_pred)\n",
        "\n",
        "class_labels = ['other', 'cheering', 'whistle', 'air_horn']\n",
        "plt.figure(figsize=(8,6))\n",
        "sns.heatmap(confusion_mat, annot=True, fmt='d', xticklabels=class_labels, yticklabels=class_labels, cmap='YlGnBu')\n",
        "plt.title('Confusion Matrix')\n",
        "plt.xlabel('Predicted Labels')\n",
        "plt.ylabel('True Labels')\n",
        "plt.show()"
      ]
    },
    {
      "attachments": {},
      "cell_type": "markdown",
      "metadata": {
        "id": "4RTyqbJW9GEh"
      },
      "source": [
        "## ANN performance for concatenated_features without PCA"
      ]
    },
    {
      "cell_type": "code",
      "execution_count": 24,
      "metadata": {
        "id": "yzb_E5sy9KIk"
      },
      "outputs": [],
      "source": [
        "# Split the data into training and testing sets\n",
        "X_train, X_test, y_train, y_test = train_test_split(features_std, concatenated_features_labels, test_size=0.2)\n",
        "\n",
        "X_train_0_all = X_train[y_train == 0]\n",
        "X_train_1_all = X_train[y_train == 1]\n",
        "X_train_2_all = X_train[y_train == 2]\n",
        "X_train_3_all = X_train[y_train == 3]\n",
        "\n",
        "X_train_0_downsampled_all = resample(X_train_0_all, replace=False, n_samples=X_train_2_all.shape[0], random_state=123)\n",
        "X_train_1_downsampled_all = resample(X_train_1_all, replace=False, n_samples=X_train_2_all.shape[0], random_state=123)\n",
        "X_train_3_downsampled_all = resample(X_train_3_all, replace=False, n_samples=X_train_2_all.shape[0], random_state=123)\n",
        "\n",
        "\n",
        "X_train_downsampled_all = np.vstack((X_train_0_downsampled_all, X_train_1_downsampled_all, X_train_2_all, X_train_3_downsampled_all))\n",
        "y_train_downsampled_all = np.hstack((np.zeros(X_train_0_downsampled_all.shape[0]), np.ones(X_train_1_downsampled_all.shape[0]), np.full(X_train_2_all.shape[0], 2), np.full(X_train_3_downsampled_all.shape[0], 3)))\n"
      ]
    },
    {
      "cell_type": "code",
      "execution_count": 25,
      "metadata": {},
      "outputs": [
        {
          "name": "stdout",
          "output_type": "stream",
          "text": [
            "Model: \"sequential_2\"\n",
            "_________________________________________________________________\n",
            " Layer (type)                Output Shape              Param #   \n",
            "=================================================================\n",
            " dense_8 (Dense)             (None, 100)               15700     \n",
            "                                                                 \n",
            " dropout_6 (Dropout)         (None, 100)               0         \n",
            "                                                                 \n",
            " dense_9 (Dense)             (None, 200)               20200     \n",
            "                                                                 \n",
            " dropout_7 (Dropout)         (None, 200)               0         \n",
            "                                                                 \n",
            " dense_10 (Dense)            (None, 100)               20100     \n",
            "                                                                 \n",
            " dropout_8 (Dropout)         (None, 100)               0         \n",
            "                                                                 \n",
            " dense_11 (Dense)            (None, 4)                 404       \n",
            "                                                                 \n",
            " activation_2 (Activation)   (None, 4)                 0         \n",
            "                                                                 \n",
            "=================================================================\n",
            "Total params: 56,404\n",
            "Trainable params: 56,404\n",
            "Non-trainable params: 0\n",
            "_________________________________________________________________\n",
            "Epoch 1/50\n",
            "136/136 [==============================] - 2s 4ms/step - loss: 1.1532 - accuracy: 0.5594\n",
            "Epoch 2/50\n",
            "136/136 [==============================] - 1s 7ms/step - loss: 0.6457 - accuracy: 0.7765\n",
            "Epoch 3/50\n",
            "136/136 [==============================] - 1s 6ms/step - loss: 0.5276 - accuracy: 0.8228\n",
            "Epoch 4/50\n",
            "136/136 [==============================] - 1s 6ms/step - loss: 0.4473 - accuracy: 0.8523\n",
            "Epoch 5/50\n",
            "136/136 [==============================] - 1s 6ms/step - loss: 0.4149 - accuracy: 0.8698\n",
            "Epoch 6/50\n",
            "136/136 [==============================] - 1s 6ms/step - loss: 0.3762 - accuracy: 0.8735\n",
            "Epoch 7/50\n",
            "136/136 [==============================] - 1s 6ms/step - loss: 0.3710 - accuracy: 0.8818\n",
            "Epoch 8/50\n",
            "136/136 [==============================] - 1s 6ms/step - loss: 0.3411 - accuracy: 0.8866\n",
            "Epoch 9/50\n",
            "136/136 [==============================] - 1s 6ms/step - loss: 0.3417 - accuracy: 0.8919\n",
            "Epoch 10/50\n",
            "136/136 [==============================] - 1s 7ms/step - loss: 0.3093 - accuracy: 0.9000\n",
            "Epoch 11/50\n",
            "136/136 [==============================] - 1s 6ms/step - loss: 0.3052 - accuracy: 0.9046\n",
            "Epoch 12/50\n",
            "136/136 [==============================] - 1s 6ms/step - loss: 0.2940 - accuracy: 0.9032\n",
            "Epoch 13/50\n",
            "136/136 [==============================] - 1s 6ms/step - loss: 0.2698 - accuracy: 0.9104\n",
            "Epoch 14/50\n",
            "136/136 [==============================] - 1s 6ms/step - loss: 0.2752 - accuracy: 0.9118\n",
            "Epoch 15/50\n",
            "136/136 [==============================] - 1s 6ms/step - loss: 0.2743 - accuracy: 0.9138\n",
            "Epoch 16/50\n",
            "136/136 [==============================] - 1s 6ms/step - loss: 0.2588 - accuracy: 0.9136\n",
            "Epoch 17/50\n",
            "136/136 [==============================] - 1s 6ms/step - loss: 0.2544 - accuracy: 0.9200\n",
            "Epoch 18/50\n",
            "136/136 [==============================] - 1s 6ms/step - loss: 0.2470 - accuracy: 0.9189\n",
            "Epoch 19/50\n",
            "136/136 [==============================] - 1s 6ms/step - loss: 0.2330 - accuracy: 0.9226\n",
            "Epoch 20/50\n",
            "136/136 [==============================] - 1s 6ms/step - loss: 0.2382 - accuracy: 0.9247\n",
            "Epoch 21/50\n",
            "136/136 [==============================] - 1s 6ms/step - loss: 0.2348 - accuracy: 0.9270\n",
            "Epoch 22/50\n",
            "136/136 [==============================] - 1s 6ms/step - loss: 0.2060 - accuracy: 0.9283\n",
            "Epoch 23/50\n",
            "136/136 [==============================] - 1s 6ms/step - loss: 0.2123 - accuracy: 0.9318\n",
            "Epoch 24/50\n",
            "136/136 [==============================] - 1s 5ms/step - loss: 0.2046 - accuracy: 0.9306\n",
            "Epoch 25/50\n",
            "136/136 [==============================] - 1s 6ms/step - loss: 0.2127 - accuracy: 0.9311\n",
            "Epoch 26/50\n",
            "136/136 [==============================] - 1s 7ms/step - loss: 0.1797 - accuracy: 0.9382\n",
            "Epoch 27/50\n",
            "136/136 [==============================] - 1s 6ms/step - loss: 0.2069 - accuracy: 0.9320\n",
            "Epoch 28/50\n",
            "136/136 [==============================] - 1s 4ms/step - loss: 0.2003 - accuracy: 0.9353\n",
            "Epoch 29/50\n",
            "136/136 [==============================] - 1s 4ms/step - loss: 0.1796 - accuracy: 0.9406\n",
            "Epoch 30/50\n",
            "136/136 [==============================] - 1s 7ms/step - loss: 0.1771 - accuracy: 0.9440\n",
            "Epoch 31/50\n",
            "136/136 [==============================] - 1s 6ms/step - loss: 0.1756 - accuracy: 0.9440\n",
            "Epoch 32/50\n",
            "136/136 [==============================] - 1s 6ms/step - loss: 0.1606 - accuracy: 0.9470\n",
            "Epoch 33/50\n",
            "136/136 [==============================] - 1s 6ms/step - loss: 0.1727 - accuracy: 0.9435\n",
            "Epoch 34/50\n",
            "136/136 [==============================] - 1s 6ms/step - loss: 0.1639 - accuracy: 0.9452\n",
            "Epoch 35/50\n",
            "136/136 [==============================] - 1s 6ms/step - loss: 0.1591 - accuracy: 0.9470\n",
            "Epoch 36/50\n",
            "136/136 [==============================] - 1s 6ms/step - loss: 0.1473 - accuracy: 0.9518\n",
            "Epoch 37/50\n",
            "136/136 [==============================] - 1s 6ms/step - loss: 0.1693 - accuracy: 0.9488\n",
            "Epoch 38/50\n",
            "136/136 [==============================] - 1s 6ms/step - loss: 0.1488 - accuracy: 0.9516\n",
            "Epoch 39/50\n",
            "136/136 [==============================] - 1s 6ms/step - loss: 0.1506 - accuracy: 0.9505\n",
            "Epoch 40/50\n",
            "136/136 [==============================] - 1s 6ms/step - loss: 0.1498 - accuracy: 0.9495\n",
            "Epoch 41/50\n",
            "136/136 [==============================] - 1s 6ms/step - loss: 0.1436 - accuracy: 0.9541\n",
            "Epoch 42/50\n",
            "136/136 [==============================] - 1s 6ms/step - loss: 0.1372 - accuracy: 0.9604\n",
            "Epoch 43/50\n",
            "136/136 [==============================] - 1s 6ms/step - loss: 0.1360 - accuracy: 0.9551\n",
            "Epoch 44/50\n",
            "136/136 [==============================] - 1s 6ms/step - loss: 0.1368 - accuracy: 0.9539\n",
            "Epoch 45/50\n",
            "136/136 [==============================] - 1s 6ms/step - loss: 0.1205 - accuracy: 0.9615\n",
            "Epoch 46/50\n",
            "136/136 [==============================] - 1s 6ms/step - loss: 0.1527 - accuracy: 0.9521\n",
            "Epoch 47/50\n",
            "136/136 [==============================] - 1s 7ms/step - loss: 0.1349 - accuracy: 0.9590\n",
            "Epoch 48/50\n",
            "136/136 [==============================] - 1s 6ms/step - loss: 0.1202 - accuracy: 0.9599\n",
            "Epoch 49/50\n",
            "136/136 [==============================] - 1s 6ms/step - loss: 0.1254 - accuracy: 0.9590\n",
            "Epoch 50/50\n",
            "136/136 [==============================] - 1s 6ms/step - loss: 0.1342 - accuracy: 0.9581\n"
          ]
        },
        {
          "data": {
            "text/plain": [
              "<keras.callbacks.History at 0x16d151cf7c0>"
            ]
          },
          "execution_count": 25,
          "metadata": {},
          "output_type": "execute_result"
        }
      ],
      "source": [
        "model = ANN_model(concatenated_features.shape[1])\n",
        "model.fit(X_train_downsampled_all, y_train_downsampled_all, epochs=50, batch_size=32)"
      ]
    },
    {
      "cell_type": "code",
      "execution_count": 26,
      "metadata": {
        "id": "Wlv-Fcyi_H9g"
      },
      "outputs": [
        {
          "name": "stdout",
          "output_type": "stream",
          "text": [
            "3144/3144 [==============================] - 7s 2ms/step - loss: 0.4638 - accuracy: 0.8827\n",
            "Test loss: 0.4638045132160187\n",
            "Test accuracy: 0.8827447891235352\n"
          ]
        }
      ],
      "source": [
        "loss, accuracy = model.evaluate(X_test, y_test)\n",
        "print(f\"Test loss: {loss}\")\n",
        "print(f\"Test accuracy: {accuracy}\")"
      ]
    },
    {
      "attachments": {},
      "cell_type": "markdown",
      "metadata": {
        "id": "3GmMgfKejSWt"
      },
      "source": [
        "# Fine-tuning via GridSearch"
      ]
    },
    {
      "cell_type": "code",
      "execution_count": 69,
      "metadata": {
        "id": "qeSEGaGComns"
      },
      "outputs": [
        {
          "name": "stderr",
          "output_type": "stream",
          "text": [
            "C:\\Users\\MANOS\\AppData\\Local\\Temp/ipykernel_1212/285734137.py:1: DeprecationWarning: KerasClassifier is deprecated, use Sci-Keras (https://github.com/adriangb/scikeras) instead. See https://www.adriangb.com/scikeras/stable/migration.html for help migrating.\n",
            "  model = KerasClassifier(build_fn=ANN_model)\n"
          ]
        },
        {
          "name": "stdout",
          "output_type": "stream",
          "text": [
            "Model: \"sequential_5\"\n",
            "_________________________________________________________________\n",
            " Layer (type)                Output Shape              Param #   \n",
            "=================================================================\n",
            " dense_20 (Dense)            (None, 100)               165100    \n",
            "                                                                 \n",
            " dropout_15 (Dropout)        (None, 100)               0         \n",
            "                                                                 \n",
            " dense_21 (Dense)            (None, 200)               20200     \n",
            "                                                                 \n",
            " dropout_16 (Dropout)        (None, 200)               0         \n",
            "                                                                 \n",
            " dense_22 (Dense)            (None, 100)               20100     \n",
            "                                                                 \n",
            " dropout_17 (Dropout)        (None, 100)               0         \n",
            "                                                                 \n",
            " dense_23 (Dense)            (None, 4)                 404       \n",
            "                                                                 \n",
            " activation_5 (Activation)   (None, 4)                 0         \n",
            "                                                                 \n",
            "=================================================================\n",
            "Total params: 205,804\n",
            "Trainable params: 205,804\n",
            "Non-trainable params: 0\n",
            "_________________________________________________________________\n"
          ]
        },
        {
          "name": "stderr",
          "output_type": "stream",
          "text": [
            "C:\\Users\\MANOS\\AppData\\Local\\Packages\\PythonSoftwareFoundation.Python.3.9_qbz5n2kfra8p0\\LocalCache\\local-packages\\Python39\\site-packages\\keras\\backend.py:5612: UserWarning: \"`sparse_categorical_crossentropy` received `from_logits=True`, but the `output` argument was produced by a Softmax activation and thus does not represent logits. Was this intended?\n",
            "  output, from_logits = _get_logits(\n"
          ]
        },
        {
          "name": "stdout",
          "output_type": "stream",
          "text": [
            "13/13 [==============================] - 1s 5ms/step - loss: 2.0859 - accuracy: 0.3859\n",
            "Best: 0.294946 using {'activation': 'relu', 'optimizer': 'rmsprop'}\n"
          ]
        }
      ],
      "source": [
        "model = KerasClassifier(build_fn=ANN_model)\n",
        "\n",
        "param_grid = {\n",
        "    'optimizer' : ['rmsprop', 'SGD', 'adam'],\n",
        "    'activation' : ['relu', 'sigmoid'],\n",
        "    # 'batch_size': [32, 64, 128],\n",
        "    # 'epochs': [50, 75, 100]\n",
        "}\n",
        "\n",
        "\n",
        "grid = GridSearchCV(estimator=model, param_grid=param_grid, n_jobs=-1, scoring='accuracy')\n",
        "grid_result = grid.fit(X_train_downsampled, y_train_downsampled)\n",
        "\n",
        "print(\"Best: %f using %s\" % (grid_result.best_score_, grid_result.best_params_))"
      ]
    },
    {
      "attachments": {},
      "cell_type": "markdown",
      "metadata": {},
      "source": [
        "# Results(accuracy, loss)"
      ]
    },
    {
      "attachments": {},
      "cell_type": "markdown",
      "metadata": {
        "id": "O-OgtH_n8Qud"
      },
      "source": [
        "## PCA\n",
        "\n",
        "  Training - accuracy: 0.94, loss: 0.15\n",
        "  Testing - accuracy: 0.85, loss: 0.4\n",
        "\n",
        "## NO PCA\n",
        "  Training - accuracy:0.95, loss:0.13\n",
        "  Testing - accuracy: 0.88, loss:0.46"
      ]
    }
  ],
  "metadata": {
    "accelerator": "GPU",
    "colab": {
      "collapsed_sections": [
        "A16pBxFWCu4C",
        "2Ho1WoEaldwM",
        "3GmMgfKejSWt"
      ],
      "gpuType": "T4",
      "provenance": []
    },
    "kernelspec": {
      "display_name": "Python 3",
      "name": "python3"
    },
    "language_info": {
      "codemirror_mode": {
        "name": "ipython",
        "version": 3
      },
      "file_extension": ".py",
      "mimetype": "text/x-python",
      "name": "python",
      "nbconvert_exporter": "python",
      "pygments_lexer": "ipython3",
      "version": "3.9.13"
    }
  },
  "nbformat": 4,
  "nbformat_minor": 0
}
