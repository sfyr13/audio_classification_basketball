{
  "cells": [
    {
      "attachments": {},
      "cell_type": "markdown",
      "metadata": {
        "id": "3YjSOWYbYK0k"
      },
      "source": [
        "# Libraries"
      ]
    },
    {
      "cell_type": "code",
      "execution_count": 1,
      "metadata": {
        "colab": {
          "base_uri": "https://localhost:8080/"
        },
        "id": "DWFVSY-fB4xt",
        "outputId": "93139226-2f1e-4f2c-ff1c-19e0a7d53aa4"
      },
      "outputs": [],
      "source": [
        "import librosa\n",
        "import numpy as np\n",
        "from sklearn.metrics import accuracy_score, confusion_matrix\n",
        "import pandas as pd\n",
        "from sklearn.model_selection import train_test_split\n",
        "import matplotlib.pyplot as plt\n",
        "import tensorflow as tf\n",
        "from tensorflow.keras import Sequential\n",
        "from tensorflow.keras.layers import Dense, Activation, Dropout\n",
        "from sklearn.preprocessing import StandardScaler\n",
        "from sklearn.decomposition import PCA\n",
        "from sklearn.model_selection import GridSearchCV, RandomizedSearchCV\n",
        "from keras.wrappers.scikit_learn import  KerasClassifier\n",
        "from scipy.stats import randint, uniform\n",
        "from sklearn.utils import resample\n",
        "import seaborn as sns\n"
      ]
    },
    {
      "attachments": {},
      "cell_type": "markdown",
      "metadata": {
        "id": "A16pBxFWCu4C"
      },
      "source": [
        "# Load audio and labels"
      ]
    },
    {
      "cell_type": "code",
      "execution_count": 2,
      "metadata": {
        "id": "2zytppaDCX3l"
      },
      "outputs": [],
      "source": [
        "#Load the audio file\n",
        "audio_path = \"clips_lakers.wav\"\n",
        "audio, sr = librosa.load(audio_path, sr=None)"
      ]
    },
    {
      "cell_type": "code",
      "execution_count": 3,
      "metadata": {
        "colab": {
          "base_uri": "https://localhost:8080/",
          "height": 0
        },
        "id": "WrPrxbORCy9n",
        "outputId": "e61055fd-e658-499b-ba92-7e09287438c4"
      },
      "outputs": [
        {
          "data": {
            "text/html": [
              "<div>\n",
              "<style scoped>\n",
              "    .dataframe tbody tr th:only-of-type {\n",
              "        vertical-align: middle;\n",
              "    }\n",
              "\n",
              "    .dataframe tbody tr th {\n",
              "        vertical-align: top;\n",
              "    }\n",
              "\n",
              "    .dataframe thead th {\n",
              "        text-align: right;\n",
              "    }\n",
              "</style>\n",
              "<table border=\"1\" class=\"dataframe\">\n",
              "  <thead>\n",
              "    <tr style=\"text-align: right;\">\n",
              "      <th></th>\n",
              "      <th>TIME</th>\n",
              "      <th>DURATION</th>\n",
              "      <th>LABEL</th>\n",
              "    </tr>\n",
              "  </thead>\n",
              "  <tbody>\n",
              "    <tr>\n",
              "      <th>0</th>\n",
              "      <td>25.353288</td>\n",
              "      <td>2.641270</td>\n",
              "      <td>cheering</td>\n",
              "    </tr>\n",
              "    <tr>\n",
              "      <th>1</th>\n",
              "      <td>68.057687</td>\n",
              "      <td>3.125986</td>\n",
              "      <td>boos</td>\n",
              "    </tr>\n",
              "    <tr>\n",
              "      <th>2</th>\n",
              "      <td>72.759728</td>\n",
              "      <td>0.017415</td>\n",
              "      <td>cheering</td>\n",
              "    </tr>\n",
              "    <tr>\n",
              "      <th>3</th>\n",
              "      <td>83.043265</td>\n",
              "      <td>3.700680</td>\n",
              "      <td>boos</td>\n",
              "    </tr>\n",
              "    <tr>\n",
              "      <th>4</th>\n",
              "      <td>126.656145</td>\n",
              "      <td>1.367075</td>\n",
              "      <td>cheering</td>\n",
              "    </tr>\n",
              "    <tr>\n",
              "      <th>...</th>\n",
              "      <td>...</td>\n",
              "      <td>...</td>\n",
              "      <td>...</td>\n",
              "    </tr>\n",
              "    <tr>\n",
              "      <th>307</th>\n",
              "      <td>5671.632109</td>\n",
              "      <td>0.114649</td>\n",
              "      <td>whistle</td>\n",
              "    </tr>\n",
              "    <tr>\n",
              "      <th>308</th>\n",
              "      <td>5684.033016</td>\n",
              "      <td>2.016508</td>\n",
              "      <td>air_horn</td>\n",
              "    </tr>\n",
              "    <tr>\n",
              "      <th>309</th>\n",
              "      <td>5708.364626</td>\n",
              "      <td>0.274286</td>\n",
              "      <td>whistle</td>\n",
              "    </tr>\n",
              "    <tr>\n",
              "      <th>310</th>\n",
              "      <td>5717.298503</td>\n",
              "      <td>1.648617</td>\n",
              "      <td>air_horn</td>\n",
              "    </tr>\n",
              "    <tr>\n",
              "      <th>311</th>\n",
              "      <td>5718.151837</td>\n",
              "      <td>0.055147</td>\n",
              "      <td>whistle</td>\n",
              "    </tr>\n",
              "  </tbody>\n",
              "</table>\n",
              "<p>312 rows × 3 columns</p>\n",
              "</div>"
            ],
            "text/plain": [
              "            TIME  DURATION     LABEL\n",
              "0      25.353288  2.641270  cheering\n",
              "1      68.057687  3.125986      boos\n",
              "2      72.759728  0.017415  cheering\n",
              "3      83.043265  3.700680      boos\n",
              "4     126.656145  1.367075  cheering\n",
              "..           ...       ...       ...\n",
              "307  5671.632109  0.114649   whistle\n",
              "308  5684.033016  2.016508  air_horn\n",
              "309  5708.364626  0.274286   whistle\n",
              "310  5717.298503  1.648617  air_horn\n",
              "311  5718.151837  0.055147   whistle\n",
              "\n",
              "[312 rows x 3 columns]"
            ]
          },
          "execution_count": 3,
          "metadata": {},
          "output_type": "execute_result"
        }
      ],
      "source": [
        "#Load labels from CSV file\n",
        "labels_path = \"annotation.csv\"\n",
        "labels_df = pd.read_csv(labels_path)\n",
        "labels_df.drop(['VALUE'], axis=1)"
      ]
    },
    {
      "attachments": {},
      "cell_type": "markdown",
      "metadata": {
        "id": "M2lT2r4uDruc"
      },
      "source": [
        "# Feature extraction and labelling"
      ]
    },
    {
      "cell_type": "code",
      "execution_count": 4,
      "metadata": {},
      "outputs": [],
      "source": [
        "n_fft = 2048\n",
        "hop_length = 512"
      ]
    },
    {
      "cell_type": "code",
      "execution_count": 5,
      "metadata": {
        "id": "ftcG79LcDvDB"
      },
      "outputs": [],
      "source": [
        "#Mel Frequency Cepstral Coefficients\n",
        "\n",
        "\n",
        "\n",
        "mfccs = librosa.feature.mfcc(y=audio, sr=sr, n_fft=n_fft, hop_length=hop_length, n_mfcc=13)"
      ]
    },
    {
      "cell_type": "code",
      "execution_count": 6,
      "metadata": {
        "id": "_LVbcPaXD80_"
      },
      "outputs": [],
      "source": [
        "#Mel Spectrogram\n",
        "\n",
        "mel_spectrograms = librosa.feature.melspectrogram(y=audio, sr=sr, n_fft=n_fft, hop_length=hop_length)  "
      ]
    },
    {
      "cell_type": "code",
      "execution_count": 7,
      "metadata": {
        "id": "4mFZsLoYEVow"
      },
      "outputs": [],
      "source": [
        "#Spectral Centroid\n",
        "\n",
        "centroids = librosa.feature.spectral_centroid(y=audio, sr=sr, n_fft=n_fft, hop_length=hop_length)"
      ]
    },
    {
      "cell_type": "code",
      "execution_count": 8,
      "metadata": {
        "id": "ZG_pTGQyFsGn"
      },
      "outputs": [],
      "source": [
        "#Zero Crossing Rate\n",
        "\n",
        "zcr = librosa.feature.zero_crossing_rate(y=audio, hop_length=hop_length)"
      ]
    },
    {
      "cell_type": "code",
      "execution_count": 9,
      "metadata": {
        "id": "HfpPt-ODAR3B"
      },
      "outputs": [],
      "source": [
        "#Chromagram\n",
        "\n",
        "chroma = librosa.feature.chroma_stft(y=audio, hop_length=hop_length)"
      ]
    },
    {
      "cell_type": "code",
      "execution_count": 10,
      "metadata": {},
      "outputs": [],
      "source": [
        "#spectral flatness\n",
        "\n",
        "flatness = librosa.feature.spectral_flatness(y=audio, hop_length=hop_length)"
      ]
    },
    {
      "cell_type": "code",
      "execution_count": 11,
      "metadata": {},
      "outputs": [],
      "source": [
        "#Spectral rolloff\n",
        "\n",
        "rolloff = librosa.feature.spectral_rolloff(y=audio, hop_length=hop_length)"
      ]
    },
    {
      "cell_type": "code",
      "execution_count": 12,
      "metadata": {
        "id": "rnd-2HnAYTTQ"
      },
      "outputs": [],
      "source": [
        "#Concatenate multiple audio features\n",
        "concatenated_features = []\n",
        "\n",
        "for i in range(mfccs.shape[1]):\n",
        "  sample_features = np.concatenate((mfccs[:, i], mel_spectrograms[:, i], zcr[:, i], chroma[:, i], flatness[:, i], rolloff[:, i]))\n",
        "  concatenated_features.append(sample_features)"
      ]
    },
    {
      "cell_type": "code",
      "execution_count": 13,
      "metadata": {
        "id": "hyZZSRpwcv8S"
      },
      "outputs": [],
      "source": [
        "#Stack concatenated features to create a single numpy array of shape:\n",
        "#(num_of_samples, num_of_features)\n",
        "\n",
        "concatenated_features = np.stack(concatenated_features)"
      ]
    },
    {
      "cell_type": "code",
      "execution_count": 16,
      "metadata": {
        "id": "zsHnZi2QFb1Y"
      },
      "outputs": [],
      "source": [
        "#Label concatenated_features based on the corresponding CSV labels\n",
        "\n",
        "concatenated_features_labels = np.zeros(concatenated_features.shape[0])\n",
        "\n",
        "for i, row in labels_df.iterrows():\n",
        "  start_time = row[\"TIME\"]\n",
        "  end_time = start_time + row[\"DURATION\"]\n",
        "  label = row[\"LABEL\"]\n",
        "\n",
        "  # Convert the start and end times from seconds to samples\n",
        "  start_sample = int(start_time * sr/hop_length)\n",
        "  end_sample = int(end_time * sr/hop_length)\n",
        "\n",
        "  if row['LABEL'] == 'cheering':\n",
        "    concatenated_features_labels[start_sample:end_sample] = 1\n",
        "\n",
        "  elif row['LABEL'] == 'whistle':\n",
        "    concatenated_features_labels[start_sample:end_sample] = 2\n",
        "\n",
        "\n",
        "  elif row['LABEL'] == 'air_horn':\n",
        "    concatenated_features_labels[start_sample:end_sample] = 3"
      ]
    },
    {
      "attachments": {},
      "cell_type": "markdown",
      "metadata": {},
      "source": [
        "# Preprocessing"
      ]
    },
    {
      "cell_type": "code",
      "execution_count": 17,
      "metadata": {},
      "outputs": [],
      "source": [
        "#Standardize features by removing the mean and scaling to unit variance to avoid large weights\n",
        "scaler = StandardScaler()\n",
        "features_std = scaler.fit_transform(concatenated_features)"
      ]
    },
    {
      "cell_type": "code",
      "execution_count": 18,
      "metadata": {},
      "outputs": [
        {
          "name": "stdout",
          "output_type": "stream",
          "text": [
            "Number of components: 56\n"
          ]
        }
      ],
      "source": [
        "#Principal Component Analysis(PCA) for dimensionality reduction\n",
        "\n",
        "pca = PCA()\n",
        "pca.fit(features_std)\n",
        "evr = pca.explained_variance_ratio_\n",
        "\n",
        "for i, exp_var in enumerate(evr.cumsum()):\n",
        "    if exp_var >= 0.8:\n",
        "        n_comps = i + 1\n",
        "        break\n",
        "print(\"Number of components:\", n_comps) #Number of components necessary to preserve around 80% of variance\n",
        "pca = PCA(n_components=n_comps)\n",
        "pca.fit(features_std)\n",
        "scores_pca = pca.transform(features_std)"
      ]
    },
    {
      "cell_type": "code",
      "execution_count": 19,
      "metadata": {},
      "outputs": [],
      "source": [
        "# Split the data into training and testing sets\n",
        "X_train, X_test, y_train, y_test = train_test_split(scores_pca, concatenated_features_labels, test_size=0.2)\n",
        "\n",
        "#Downsample X_train to have equal number of each event(to avoid overfitting)\n",
        "\n",
        "X_train_0 = X_train[y_train == 0]\n",
        "X_train_1 = X_train[y_train == 1]\n",
        "X_train_2 = X_train[y_train == 2]\n",
        "X_train_3 = X_train[y_train == 3]\n",
        "\n",
        "X_train_0_downsampled = resample(X_train_0, replace=False, n_samples=X_train_2.shape[0], random_state=123)\n",
        "X_train_1_downsampled = resample(X_train_1, replace=False, n_samples=X_train_2.shape[0], random_state=123)\n",
        "X_train_3_downsampled = resample(X_train_3, replace=False, n_samples=X_train_2.shape[0], random_state=123)\n",
        "\n",
        "\n",
        "X_train_downsampled = np.vstack((X_train_0_downsampled, X_train_1_downsampled, X_train_2, X_train_3_downsampled))\n",
        "y_train_downsampled = np.hstack((np.zeros(X_train_0_downsampled.shape[0]), np.ones(X_train_1_downsampled.shape[0]), np.full(X_train_2.shape[0], 2), np.full(X_train_3_downsampled.shape[0], 3)))\n"
      ]
    },
    {
      "attachments": {},
      "cell_type": "markdown",
      "metadata": {
        "id": "0yA7y-4_akJL"
      },
      "source": [
        "# Build ANN for classification\n"
      ]
    },
    {
      "cell_type": "code",
      "execution_count": 20,
      "metadata": {
        "id": "y2qKc1n_apEJ"
      },
      "outputs": [],
      "source": [
        "#Define the number of classes\n",
        "num_classes = 4\n",
        "\n",
        "\n",
        "# #Define ANN model\n",
        "def ANN_model(input_shape=scores_pca.shape[1], activation='relu', optimizer='adam'):\n",
        "\n",
        "    model = Sequential()\n",
        "    model.add(Dense(100, input_shape = (input_shape,), activation=activation)) #fix input_shape depending on input\n",
        "    model.add(Dropout(0.5))\n",
        "    ###second layer\n",
        "    model.add(Dense(200, activation=activation))\n",
        "    model.add(Dropout(0.5))\n",
        "    ###third layer\n",
        "    model.add(Dense(100, activation=activation))\n",
        "    model.add(Dropout(0.5))\n",
        "    ###final layer\n",
        "    model.add(Dense(num_classes))\n",
        "    model.add(Activation('softmax')) \n",
        "\n",
        "    model.summary()\n",
        "\n",
        "    # Compile the model\n",
        "    model.compile(optimizer=optimizer,\n",
        "              loss=tf.keras.losses.SparseCategoricalCrossentropy(from_logits=True),\n",
        "              metrics=['accuracy'])\n",
        "    return model"
      ]
    },
    {
      "cell_type": "code",
      "execution_count": 21,
      "metadata": {
        "id": "z7qOQoZ36KhW"
      },
      "outputs": [
        {
          "name": "stdout",
          "output_type": "stream",
          "text": [
            "Model: \"sequential\"\n",
            "_________________________________________________________________\n",
            " Layer (type)                Output Shape              Param #   \n",
            "=================================================================\n",
            " dense (Dense)               (None, 100)               5700      \n",
            "                                                                 \n",
            " dropout (Dropout)           (None, 100)               0         \n",
            "                                                                 \n",
            " dense_1 (Dense)             (None, 200)               20200     \n",
            "                                                                 \n",
            " dropout_1 (Dropout)         (None, 200)               0         \n",
            "                                                                 \n",
            " dense_2 (Dense)             (None, 100)               20100     \n",
            "                                                                 \n",
            " dropout_2 (Dropout)         (None, 100)               0         \n",
            "                                                                 \n",
            " dense_3 (Dense)             (None, 4)                 404       \n",
            "                                                                 \n",
            " activation (Activation)     (None, 4)                 0         \n",
            "                                                                 \n",
            "=================================================================\n",
            "Total params: 46,404\n",
            "Trainable params: 46,404\n",
            "Non-trainable params: 0\n",
            "_________________________________________________________________\n",
            "Epoch 1/50\n"
          ]
        },
        {
          "name": "stderr",
          "output_type": "stream",
          "text": [
            "C:\\Users\\MANOS\\AppData\\Local\\Packages\\PythonSoftwareFoundation.Python.3.9_qbz5n2kfra8p0\\LocalCache\\local-packages\\Python39\\site-packages\\keras\\backend.py:5612: UserWarning: \"`sparse_categorical_crossentropy` received `from_logits=True`, but the `output` argument was produced by a Softmax activation and thus does not represent logits. Was this intended?\n",
            "  output, from_logits = _get_logits(\n"
          ]
        },
        {
          "name": "stdout",
          "output_type": "stream",
          "text": [
            "138/138 [==============================] - 2s 3ms/step - loss: 1.3134 - accuracy: 0.5412\n",
            "Epoch 2/50\n",
            "138/138 [==============================] - 1s 5ms/step - loss: 0.7634 - accuracy: 0.7317\n",
            "Epoch 3/50\n",
            "138/138 [==============================] - 1s 4ms/step - loss: 0.6473 - accuracy: 0.7810\n",
            "Epoch 4/50\n",
            "138/138 [==============================] - 1s 4ms/step - loss: 0.5617 - accuracy: 0.8043\n",
            "Epoch 5/50\n",
            "138/138 [==============================] - 1s 4ms/step - loss: 0.5344 - accuracy: 0.8247\n",
            "Epoch 6/50\n",
            "138/138 [==============================] - 1s 5ms/step - loss: 0.5106 - accuracy: 0.8354\n",
            "Epoch 7/50\n",
            "138/138 [==============================] - 1s 4ms/step - loss: 0.4847 - accuracy: 0.8510\n",
            "Epoch 8/50\n",
            "138/138 [==============================] - 0s 3ms/step - loss: 0.4611 - accuracy: 0.8512\n",
            "Epoch 9/50\n",
            "138/138 [==============================] - 1s 4ms/step - loss: 0.4188 - accuracy: 0.8621\n",
            "Epoch 10/50\n",
            "138/138 [==============================] - 1s 5ms/step - loss: 0.4235 - accuracy: 0.8589\n",
            "Epoch 11/50\n",
            "138/138 [==============================] - 1s 5ms/step - loss: 0.4156 - accuracy: 0.8689\n",
            "Epoch 12/50\n",
            "138/138 [==============================] - 1s 5ms/step - loss: 0.3867 - accuracy: 0.8725\n",
            "Epoch 13/50\n",
            "138/138 [==============================] - 1s 5ms/step - loss: 0.3691 - accuracy: 0.8777\n",
            "Epoch 14/50\n",
            "138/138 [==============================] - 1s 5ms/step - loss: 0.3788 - accuracy: 0.8723\n",
            "Epoch 15/50\n",
            "138/138 [==============================] - 1s 5ms/step - loss: 0.3786 - accuracy: 0.8768\n",
            "Epoch 16/50\n",
            "138/138 [==============================] - 1s 5ms/step - loss: 0.3419 - accuracy: 0.8872\n",
            "Epoch 17/50\n",
            "138/138 [==============================] - 1s 5ms/step - loss: 0.3530 - accuracy: 0.8793\n",
            "Epoch 18/50\n",
            "138/138 [==============================] - 1s 5ms/step - loss: 0.3410 - accuracy: 0.8906\n",
            "Epoch 19/50\n",
            "138/138 [==============================] - 1s 5ms/step - loss: 0.3138 - accuracy: 0.8958\n",
            "Epoch 20/50\n",
            "138/138 [==============================] - 1s 5ms/step - loss: 0.3312 - accuracy: 0.8920\n",
            "Epoch 21/50\n",
            "138/138 [==============================] - 1s 5ms/step - loss: 0.3085 - accuracy: 0.8954\n",
            "Epoch 22/50\n",
            "138/138 [==============================] - 1s 5ms/step - loss: 0.2999 - accuracy: 0.8970\n",
            "Epoch 23/50\n",
            "138/138 [==============================] - 1s 5ms/step - loss: 0.3106 - accuracy: 0.8952\n",
            "Epoch 24/50\n",
            "138/138 [==============================] - 1s 4ms/step - loss: 0.2948 - accuracy: 0.9001\n",
            "Epoch 25/50\n",
            "138/138 [==============================] - 1s 5ms/step - loss: 0.2943 - accuracy: 0.9001\n",
            "Epoch 26/50\n",
            "138/138 [==============================] - 1s 5ms/step - loss: 0.2829 - accuracy: 0.9053\n",
            "Epoch 27/50\n",
            "138/138 [==============================] - 1s 5ms/step - loss: 0.3013 - accuracy: 0.9031\n",
            "Epoch 28/50\n",
            "138/138 [==============================] - 1s 5ms/step - loss: 0.2769 - accuracy: 0.9085\n",
            "Epoch 29/50\n",
            "138/138 [==============================] - 1s 5ms/step - loss: 0.2749 - accuracy: 0.9083\n",
            "Epoch 30/50\n",
            "138/138 [==============================] - 1s 5ms/step - loss: 0.2593 - accuracy: 0.9108\n",
            "Epoch 31/50\n",
            "138/138 [==============================] - 1s 5ms/step - loss: 0.2626 - accuracy: 0.9085\n",
            "Epoch 32/50\n",
            "138/138 [==============================] - 1s 5ms/step - loss: 0.2564 - accuracy: 0.9185\n",
            "Epoch 33/50\n",
            "138/138 [==============================] - 1s 5ms/step - loss: 0.2676 - accuracy: 0.9126\n",
            "Epoch 34/50\n",
            "138/138 [==============================] - 1s 5ms/step - loss: 0.2552 - accuracy: 0.9146\n",
            "Epoch 35/50\n",
            "138/138 [==============================] - 1s 5ms/step - loss: 0.2563 - accuracy: 0.9117\n",
            "Epoch 36/50\n",
            "138/138 [==============================] - 1s 5ms/step - loss: 0.2449 - accuracy: 0.9201\n",
            "Epoch 37/50\n",
            "138/138 [==============================] - 1s 5ms/step - loss: 0.2408 - accuracy: 0.9187\n",
            "Epoch 38/50\n",
            "138/138 [==============================] - 1s 5ms/step - loss: 0.2486 - accuracy: 0.9216\n",
            "Epoch 39/50\n",
            "138/138 [==============================] - 1s 5ms/step - loss: 0.2187 - accuracy: 0.9253\n",
            "Epoch 40/50\n",
            "138/138 [==============================] - 1s 5ms/step - loss: 0.2265 - accuracy: 0.9192\n",
            "Epoch 41/50\n",
            "138/138 [==============================] - 1s 5ms/step - loss: 0.2448 - accuracy: 0.9164\n",
            "Epoch 42/50\n",
            "138/138 [==============================] - 1s 5ms/step - loss: 0.2255 - accuracy: 0.9232\n",
            "Epoch 43/50\n",
            "138/138 [==============================] - 1s 5ms/step - loss: 0.2267 - accuracy: 0.9241\n",
            "Epoch 44/50\n",
            "138/138 [==============================] - 1s 5ms/step - loss: 0.2130 - accuracy: 0.9255\n",
            "Epoch 45/50\n",
            "138/138 [==============================] - 1s 5ms/step - loss: 0.2203 - accuracy: 0.9257\n",
            "Epoch 46/50\n",
            "138/138 [==============================] - 1s 5ms/step - loss: 0.2188 - accuracy: 0.9235\n",
            "Epoch 47/50\n",
            "138/138 [==============================] - 1s 5ms/step - loss: 0.2119 - accuracy: 0.9244\n",
            "Epoch 48/50\n",
            "138/138 [==============================] - 1s 5ms/step - loss: 0.2122 - accuracy: 0.9282\n",
            "Epoch 49/50\n",
            "138/138 [==============================] - 1s 5ms/step - loss: 0.2068 - accuracy: 0.9264\n",
            "Epoch 50/50\n",
            "138/138 [==============================] - 1s 5ms/step - loss: 0.2217 - accuracy: 0.9239\n"
          ]
        },
        {
          "data": {
            "text/plain": [
              "<keras.callbacks.History at 0x16d0e7e1d90>"
            ]
          },
          "execution_count": 21,
          "metadata": {},
          "output_type": "execute_result"
        }
      ],
      "source": [
        "#Train model\n",
        "model = ANN_model()\n",
        "model.fit(X_train_downsampled, y_train_downsampled, epochs=50, batch_size=32)"
      ]
    },
    {
      "cell_type": "code",
      "execution_count": 22,
      "metadata": {
        "id": "9RUhPIGT3-_K"
      },
      "outputs": [
        {
          "name": "stdout",
          "output_type": "stream",
          "text": [
            "3144/3144 [==============================] - 6s 2ms/step - loss: 0.4093 - accuracy: 0.8546\n",
            "Test loss: 0.40934985876083374\n",
            "Test accuracy: 0.8546090722084045\n"
          ]
        }
      ],
      "source": [
        "loss, accuracy = model.evaluate(X_test, y_test)\n",
        "print(f\"Test loss: {loss}\")\n",
        "print(f\"Test accuracy: {accuracy}\")"
      ]
    },
    {
      "cell_type": "code",
      "execution_count": null,
      "metadata": {},
      "outputs": [
        {
          "name": "stdout",
          "output_type": "stream",
          "text": [
            "3144/3144 [==============================] - 3s 826us/step\n"
          ]
        },
        {
          "data": {
            "image/png": "[encoded data removed]",
            "text/plain": [
              "<Figure size 576x432 with 2 Axes>"
            ]
          },
          "metadata": {
            "needs_background": "light"
          },
          "output_type": "display_data"
        }
      ],
      "source": [
        "#Print confusion matrix to see values distribution on each class\n",
        "\n",
        "y_pred_proba = model.predict(X_test)\n",
        "y_pred = np.argmax(y_pred_proba, axis=1) #convert probability for each class into class prediction\n",
        "confusion_mat = confusion_matrix(y_test, y_pred)\n",
        "\n",
        "class_labels = ['other', 'cheering', 'whistle', 'air_horn']\n",
        "plt.figure(figsize=(8,6))\n",
        "sns.heatmap(confusion_mat, annot=True, fmt='d', xticklabels=class_labels, yticklabels=class_labels, cmap='YlGnBu')\n",
        "plt.title('Confusion Matrix')\n",
        "plt.xlabel('Predicted Labels')\n",
        "plt.ylabel('True Labels')\n",
        "plt.show()"
      ]
    },
    {
      "attachments": {},
      "cell_type": "markdown",
      "metadata": {
        "id": "4RTyqbJW9GEh"
      },
      "source": [
        "## ANN performance for concatenated_features without PCA"
      ]
    },
    {
      "cell_type": "code",
      "execution_count": 24,
      "metadata": {
        "id": "yzb_E5sy9KIk"
      },
      "outputs": [],
      "source": [
        "# Split the data into training and testing sets\n",
        "X_train, X_test, y_train, y_test = train_test_split(features_std, concatenated_features_labels, test_size=0.2)\n",
        "\n",
        "X_train_0_all = X_train[y_train == 0]\n",
        "X_train_1_all = X_train[y_train == 1]\n",
        "X_train_2_all = X_train[y_train == 2]\n",
        "X_train_3_all = X_train[y_train == 3]\n",
        "\n",
        "X_train_0_downsampled_all = resample(X_train_0_all, replace=False, n_samples=X_train_2_all.shape[0], random_state=123)\n",
        "X_train_1_downsampled_all = resample(X_train_1_all, replace=False, n_samples=X_train_2_all.shape[0], random_state=123)\n",
        "X_train_3_downsampled_all = resample(X_train_3_all, replace=False, n_samples=X_train_2_all.shape[0], random_state=123)\n",
        "\n",
        "\n",
        "X_train_downsampled_all = np.vstack((X_train_0_downsampled_all, X_train_1_downsampled_all, X_train_2_all, X_train_3_downsampled_all))\n",
        "y_train_downsampled_all = np.hstack((np.zeros(X_train_0_downsampled_all.shape[0]), np.ones(X_train_1_downsampled_all.shape[0]), np.full(X_train_2_all.shape[0], 2), np.full(X_train_3_downsampled_all.shape[0], 3)))\n"
      ]
    },
    {
      "cell_type": "code",
      "execution_count": 25,
      "metadata": {},
      "outputs": [
        {
          "name": "stdout",
          "output_type": "stream",
          "text": [
            "Model: \"sequential_2\"\n",
            "_________________________________________________________________\n",
            " Layer (type)                Output Shape              Param #   \n",
            "=================================================================\n",
            " dense_8 (Dense)             (None, 100)               15700     \n",
            "                                                                 \n",
            " dropout_6 (Dropout)         (None, 100)               0         \n",
            "                                                                 \n",
            " dense_9 (Dense)             (None, 200)               20200     \n",
            "                                                                 \n",
            " dropout_7 (Dropout)         (None, 200)               0         \n",
            "                                                                 \n",
            " dense_10 (Dense)            (None, 100)               20100     \n",
            "                                                                 \n",
            " dropout_8 (Dropout)         (None, 100)               0         \n",
            "                                                                 \n",
            " dense_11 (Dense)            (None, 4)                 404       \n",
            "                                                                 \n",
            " activation_2 (Activation)   (None, 4)                 0         \n",
            "                                                                 \n",
            "=================================================================\n",
            "Total params: 56,404\n",
            "Trainable params: 56,404\n",
            "Non-trainable params: 0\n",
            "_________________________________________________________________\n",
            "Epoch 1/50\n",
            "136/136 [==============================] - 2s 4ms/step - loss: 1.1532 - accuracy: 0.5594\n",
            "Epoch 2/50\n",
            "136/136 [==============================] - 1s 7ms/step - loss: 0.6457 - accuracy: 0.7765\n",
            "Epoch 3/50\n",
            "136/136 [==============================] - 1s 6ms/step - loss: 0.5276 - accuracy: 0.8228\n",
            "Epoch 4/50\n",
            "136/136 [==============================] - 1s 6ms/step - loss: 0.4473 - accuracy: 0.8523\n",
            "Epoch 5/50\n",
            "136/136 [==============================] - 1s 6ms/step - loss: 0.4149 - accuracy: 0.8698\n",
            "Epoch 6/50\n",
            "136/136 [==============================] - 1s 6ms/step - loss: 0.3762 - accuracy: 0.8735\n",
            "Epoch 7/50\n",
            "136/136 [==============================] - 1s 6ms/step - loss: 0.3710 - accuracy: 0.8818\n",
            "Epoch 8/50\n",
            "136/136 [==============================] - 1s 6ms/step - loss: 0.3411 - accuracy: 0.8866\n",
            "Epoch 9/50\n",
            "136/136 [==============================] - 1s 6ms/step - loss: 0.3417 - accuracy: 0.8919\n",
            "Epoch 10/50\n",
            "136/136 [==============================] - 1s 7ms/step - loss: 0.3093 - accuracy: 0.9000\n",
            "Epoch 11/50\n",
            "136/136 [==============================] - 1s 6ms/step - loss: 0.3052 - accuracy: 0.9046\n",
            "Epoch 12/50\n",
            "136/136 [==============================] - 1s 6ms/step - loss: 0.2940 - accuracy: 0.9032\n",
            "Epoch 13/50\n",
            "136/136 [==============================] - 1s 6ms/step - loss: 0.2698 - accuracy: 0.9104\n",
            "Epoch 14/50\n",
            "136/136 [==============================] - 1s 6ms/step - loss: 0.2752 - accuracy: 0.9118\n",
            "Epoch 15/50\n",
            "136/136 [==============================] - 1s 6ms/step - loss: 0.2743 - accuracy: 0.9138\n",
            "Epoch 16/50\n",
            "136/136 [==============================] - 1s 6ms/step - loss: 0.2588 - accuracy: 0.9136\n",
            "Epoch 17/50\n",
            "136/136 [==============================] - 1s 6ms/step - loss: 0.2544 - accuracy: 0.9200\n",
            "Epoch 18/50\n",
            "136/136 [==============================] - 1s 6ms/step - loss: 0.2470 - accuracy: 0.9189\n",
            "Epoch 19/50\n",
            "136/136 [==============================] - 1s 6ms/step - loss: 0.2330 - accuracy: 0.9226\n",
            "Epoch 20/50\n",
            "136/136 [==============================] - 1s 6ms/step - loss: 0.2382 - accuracy: 0.9247\n",
            "Epoch 21/50\n",
            "136/136 [==============================] - 1s 6ms/step - loss: 0.2348 - accuracy: 0.9270\n",
            "Epoch 22/50\n",
            "136/136 [==============================] - 1s 6ms/step - loss: 0.2060 - accuracy: 0.9283\n",
            "Epoch 23/50\n",
            "136/136 [==============================] - 1s 6ms/step - loss: 0.2123 - accuracy: 0.9318\n",
            "Epoch 24/50\n",
            "136/136 [==============================] - 1s 5ms/step - loss: 0.2046 - accuracy: 0.9306\n",
            "Epoch 25/50\n",
            "136/136 [==============================] - 1s 6ms/step - loss: 0.2127 - accuracy: 0.9311\n",
            "Epoch 26/50\n",
            "136/136 [==============================] - 1s 7ms/step - loss: 0.1797 - accuracy: 0.9382\n",
            "Epoch 27/50\n",
            "136/136 [==============================] - 1s 6ms/step - loss: 0.2069 - accuracy: 0.9320\n",
            "Epoch 28/50\n",
            "136/136 [==============================] - 1s 4ms/step - loss: 0.2003 - accuracy: 0.9353\n",
            "Epoch 29/50\n",
            "136/136 [==============================] - 1s 4ms/step - loss: 0.1796 - accuracy: 0.9406\n",
            "Epoch 30/50\n",
            "136/136 [==============================] - 1s 7ms/step - loss: 0.1771 - accuracy: 0.9440\n",
            "Epoch 31/50\n",
            "136/136 [==============================] - 1s 6ms/step - loss: 0.1756 - accuracy: 0.9440\n",
            "Epoch 32/50\n",
            "136/136 [==============================] - 1s 6ms/step - loss: 0.1606 - accuracy: 0.9470\n",
            "Epoch 33/50\n",
            "136/136 [==============================] - 1s 6ms/step - loss: 0.1727 - accuracy: 0.9435\n",
            "Epoch 34/50\n",
            "136/136 [==============================] - 1s 6ms/step - loss: 0.1639 - accuracy: 0.9452\n",
            "Epoch 35/50\n",
            "136/136 [==============================] - 1s 6ms/step - loss: 0.1591 - accuracy: 0.9470\n",
            "Epoch 36/50\n",
            "136/136 [==============================] - 1s 6ms/step - loss: 0.1473 - accuracy: 0.9518\n",
            "Epoch 37/50\n",
            "136/136 [==============================] - 1s 6ms/step - loss: 0.1693 - accuracy: 0.9488\n",
            "Epoch 38/50\n",
            "136/136 [==============================] - 1s 6ms/step - loss: 0.1488 - accuracy: 0.9516\n",
            "Epoch 39/50\n",
            "136/136 [==============================] - 1s 6ms/step - loss: 0.1506 - accuracy: 0.9505\n",
            "Epoch 40/50\n",
            "136/136 [==============================] - 1s 6ms/step - loss: 0.1498 - accuracy: 0.9495\n",
            "Epoch 41/50\n",
            "136/136 [==============================] - 1s 6ms/step - loss: 0.1436 - accuracy: 0.9541\n",
            "Epoch 42/50\n",
            "136/136 [==============================] - 1s 6ms/step - loss: 0.1372 - accuracy: 0.9604\n",
            "Epoch 43/50\n",
            "136/136 [==============================] - 1s 6ms/step - loss: 0.1360 - accuracy: 0.9551\n",
            "Epoch 44/50\n",
            "136/136 [==============================] - 1s 6ms/step - loss: 0.1368 - accuracy: 0.9539\n",
            "Epoch 45/50\n",
            "136/136 [==============================] - 1s 6ms/step - loss: 0.1205 - accuracy: 0.9615\n",
            "Epoch 46/50\n",
            "136/136 [==============================] - 1s 6ms/step - loss: 0.1527 - accuracy: 0.9521\n",
            "Epoch 47/50\n",
            "136/136 [==============================] - 1s 7ms/step - loss: 0.1349 - accuracy: 0.9590\n",
            "Epoch 48/50\n",
            "136/136 [==============================] - 1s 6ms/step - loss: 0.1202 - accuracy: 0.9599\n",
            "Epoch 49/50\n",
            "136/136 [==============================] - 1s 6ms/step - loss: 0.1254 - accuracy: 0.9590\n",
            "Epoch 50/50\n",
            "136/136 [==============================] - 1s 6ms/step - loss: 0.1342 - accuracy: 0.9581\n"
          ]
        },
        {
          "data": {
            "text/plain": [
              "<keras.callbacks.History at 0x16d151cf7c0>"
            ]
          },
          "execution_count": 25,
          "metadata": {},
          "output_type": "execute_result"
        }
      ],
      "source": [
        "model = ANN_model(concatenated_features.shape[1])\n",
        "model.fit(X_train_downsampled_all, y_train_downsampled_all, epochs=50, batch_size=32)"
      ]
    },
    {
      "cell_type": "code",
      "execution_count": 26,
      "metadata": {
        "id": "Wlv-Fcyi_H9g"
      },
      "outputs": [
        {
          "name": "stdout",
          "output_type": "stream",
          "text": [
            "3144/3144 [==============================] - 7s 2ms/step - loss: 0.4638 - accuracy: 0.8827\n",
            "Test loss: 0.4638045132160187\n",
            "Test accuracy: 0.8827447891235352\n"
          ]
        }
      ],
      "source": [
        "loss, accuracy = model.evaluate(X_test, y_test)\n",
        "print(f\"Test loss: {loss}\")\n",
        "print(f\"Test accuracy: {accuracy}\")"
      ]
    },
    {
      "attachments": {},
      "cell_type": "markdown",
      "metadata": {
        "id": "3GmMgfKejSWt"
      },
      "source": [
        "# Fine-tuning via GridSearch"
      ]
    },
    {
      "cell_type": "code",
      "execution_count": 23,
      "metadata": {
        "id": "qeSEGaGComns"
      },
      "outputs": [
        {
          "name": "stderr",
          "output_type": "stream",
          "text": [
            "C:\\Users\\MANOS\\AppData\\Local\\Temp/ipykernel_17184/2286083362.py:1: DeprecationWarning: KerasClassifier is deprecated, use Sci-Keras (https://github.com/adriangb/scikeras) instead. See https://www.adriangb.com/scikeras/stable/migration.html for help migrating.\n",
            "  model = KerasClassifier(build_fn=ANN_model, verbose=1)\n"
          ]
        },
        {
          "name": "stdout",
          "output_type": "stream",
          "text": [
            "Fitting 5 folds for each of 6 candidates, totalling 30 fits\n",
            "Model: \"sequential_1\"\n",
            "_________________________________________________________________\n",
            " Layer (type)                Output Shape              Param #   \n",
            "=================================================================\n",
            " dense_4 (Dense)             (None, 100)               5700      \n",
            "                                                                 \n",
            " dropout_3 (Dropout)         (None, 100)               0         \n",
            "                                                                 \n",
            " dense_5 (Dense)             (None, 200)               20200     \n",
            "                                                                 \n",
            " dropout_4 (Dropout)         (None, 200)               0         \n",
            "                                                                 \n",
            " dense_6 (Dense)             (None, 100)               20100     \n",
            "                                                                 \n",
            " dropout_5 (Dropout)         (None, 100)               0         \n",
            "                                                                 \n",
            " dense_7 (Dense)             (None, 4)                 404       \n",
            "                                                                 \n",
            " activation_1 (Activation)   (None, 4)                 0         \n",
            "                                                                 \n",
            "=================================================================\n",
            "Total params: 46,404\n",
            "Trainable params: 46,404\n",
            "Non-trainable params: 0\n",
            "_________________________________________________________________\n",
            "138/138 [==============================] - 1s 3ms/step - loss: 1.1475 - accuracy: 0.5736\n",
            "Best: 0.465682 using {'activation': 'relu', 'optimizer': 'rmsprop'}\n"
          ]
        }
      ],
      "source": [
        "model = KerasClassifier(build_fn=ANN_model)\n",
        "\n",
        "param_grid = {\n",
        "    'optimizer' : ['rmsprop', 'SGD', 'adam'],\n",
        "    'activation' : ['relu', 'sigmoid'],\n",
        "    # 'batch_size': [32, 64, 128],\n",
        "    # 'epochs': [50, 75, 100]\n",
        "}\n",
        "\n",
        "\n",
        "grid = GridSearchCV(estimator=model, param_grid=param_grid, n_jobs=-1, scoring='accuracy')\n",
        "grid_result = grid.fit(X_train_downsampled, y_train_downsampled)\n",
        "\n",
        "print(\"Best: %f using %s\" % (grid_result.best_score_, grid_result.best_params_))"
      ]
    },
    {
      "attachments": {},
      "cell_type": "markdown",
      "metadata": {},
      "source": [
        "# Results(accuracy, loss)"
      ]
    },
    {
      "attachments": {},
      "cell_type": "markdown",
      "metadata": {
        "id": "O-OgtH_n8Qud"
      },
      "source": [
        "## PCA\n",
        "\n",
        "  Training - accuracy: 0.92, loss: 0.22\n",
        "  Testing - accuracy: 0.85, loss: 0.4\n",
        "\n",
        "## NO PCA\n",
        "  Training - accuracy:0.95, loss:0.13\n",
        "  Testing - accuracy: 0.88, loss:0.46"
      ]
    }
  ],
  "metadata": {
    "accelerator": "GPU",
    "colab": {
      "collapsed_sections": [
        "A16pBxFWCu4C",
        "2Ho1WoEaldwM",
        "3GmMgfKejSWt"
      ],
      "gpuType": "T4",
      "provenance": []
    },
    "kernelspec": {
      "display_name": "Python 3",
      "name": "python3"
    },
    "language_info": {
      "codemirror_mode": {
        "name": "ipython",
        "version": 3
      },
      "file_extension": ".py",
      "mimetype": "text/x-python",
      "name": "python",
      "nbconvert_exporter": "python",
      "pygments_lexer": "ipython3",
      "version": "3.9.13"
    }
  },
  "nbformat": 4,
  "nbformat_minor": 0
}
